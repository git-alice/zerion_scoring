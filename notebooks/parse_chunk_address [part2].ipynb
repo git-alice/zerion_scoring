{
 "cells": [
  {
   "cell_type": "code",
   "execution_count": 1,
   "id": "bcfc77ce",
   "metadata": {},
   "outputs": [],
   "source": [
    "%load_ext autoreload\n",
    "%autoreload 2"
   ]
  },
  {
   "cell_type": "code",
   "execution_count": 2,
   "id": "e4e1f69c",
   "metadata": {},
   "outputs": [],
   "source": [
    "from sys import path\n",
    "path.append('../')"
   ]
  },
  {
   "cell_type": "code",
   "execution_count": 3,
   "id": "6a97ff3c",
   "metadata": {},
   "outputs": [],
   "source": [
    "from core.request import FactoryClient\n",
    "from core.parsing import transactions_parsing, charts_parsing, wallet_price_by_timestamps\n",
    "from core.preprocess import preprocess_transactions"
   ]
  },
  {
   "cell_type": "code",
   "execution_count": 4,
   "id": "675dabf9",
   "metadata": {},
   "outputs": [],
   "source": [
    "import pandas as pd\n",
    "import numpy as np\n",
    "from tqdm import tqdm\n",
    "import datetime\n",
    "import plotly.express as px\n",
    "from pathlib import Path\n",
    "import time"
   ]
  },
  {
   "cell_type": "code",
   "execution_count": 5,
   "id": "f2f0434e",
   "metadata": {},
   "outputs": [],
   "source": [
    "import nest_asyncio\n",
    "nest_asyncio.apply()"
   ]
  },
  {
   "cell_type": "code",
   "execution_count": 6,
   "id": "4eb4ea44",
   "metadata": {},
   "outputs": [],
   "source": [
    "def get_top_address():\n",
    "    return np.load('../data/address_top100.npy', allow_pickle=True).reshape(-1)\n",
    "\n",
    "def get_bottom_address():\n",
    "    return np.load('../data/address__2_3_trades.npy', allow_pickle=True).reshape(-1)"
   ]
  },
  {
   "cell_type": "markdown",
   "id": "b67fdf13",
   "metadata": {},
   "source": [
    "##### Part 2"
   ]
  },
  {
   "cell_type": "code",
   "execution_count": null,
   "id": "a90cc451",
   "metadata": {},
   "outputs": [
    {
     "name": "stdout",
     "output_type": "stream",
     "text": [
      "Wait | JOIVW0E| addr:  0xf8905baf83728e2e7a53bfc1dae345212fa315a1 done\n",
      "Wait | SZQHKP4| addr:  0xf1c1cdf8a84a5e042eb2213623adaec37fe21eb6 done\n",
      "Wait | K2IPSD6| addr:  0xf2b26e605045b0d00be7b645c7b0d4f7d095b540 done\n",
      "Wait | KCODSS8CJL"
     ]
    }
   ],
   "source": [
    "alr_exist = [x.stem for x in Path('../data/part2/').glob('*')]\n",
    "bottom_address = set(get_bottom_address()) - set(alr_exist)\n",
    "\n",
    "for address in bottom_address:\n",
    "    if address in alr_exist:\n",
    "        print(address, 'pass')\n",
    "    else:\n",
    "        try:\n",
    "            transactions = transactions_parsing(address)\n",
    "            chunks = preprocess_transactions(transactions)\n",
    "            df = pd.concat(chunks)\n",
    "            balances = wallet_price_by_timestamps(address, df['timestamp'])\n",
    "            df['balance'] = balances\n",
    "            df.to_hdf(f'../data/part2/{address}.h5', mode='w', key='w')\n",
    "            print('| addr: ', address, 'done')\n",
    "        except:\n",
    "            print('| addr: ', address, 'fail')"
   ]
  },
  {
   "cell_type": "code",
   "execution_count": null,
   "id": "375c501d",
   "metadata": {},
   "outputs": [],
   "source": []
  }
 ],
 "metadata": {
  "kernelspec": {
   "display_name": "Python 3",
   "language": "python",
   "name": "python3"
  },
  "language_info": {
   "codemirror_mode": {
    "name": "ipython",
    "version": 3
   },
   "file_extension": ".py",
   "mimetype": "text/x-python",
   "name": "python",
   "nbconvert_exporter": "python",
   "pygments_lexer": "ipython3",
   "version": "3.8.5"
  }
 },
 "nbformat": 4,
 "nbformat_minor": 5
}
